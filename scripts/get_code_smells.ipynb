{
 "cells": [
  {
   "cell_type": "code",
   "execution_count": 1,
   "metadata": {},
   "outputs": [
    {
     "name": "stdout",
     "output_type": "stream",
     "text": [
      "WARNING: __file__ not found, trying local\n",
      "Adding library path: /home/vineeth/Desktop/III-II/SE/project/automated-refactoring to PYTHONPATH\n"
     ]
    }
   ],
   "source": [
    "import os\n",
    "from pathlib import Path\n",
    "import sys\n",
    "\n",
    "# Set the \"./../\" from the script folder\n",
    "dir_name = None\n",
    "try:\n",
    "    dir_name = os.path.dirname(os.path.realpath(__file__))\n",
    "except NameError:\n",
    "    print(\"WARNING: __file__ not found, trying local\")\n",
    "    dir_name = os.path.abspath('')\n",
    "lib_path = os.path.realpath(f\"{Path(dir_name).parent}\")\n",
    "# Add to path\n",
    "if lib_path not in sys.path:\n",
    "    print(f\"Adding library path: {lib_path} to PYTHONPATH\")\n",
    "    sys.path.append(lib_path)\n",
    "else:\n",
    "    print(f\"Library path {lib_path} already in PYTHONPATH\")\n",
    "\n",
    "import utilities"
   ]
  },
  {
   "cell_type": "code",
   "execution_count": 2,
   "metadata": {},
   "outputs": [
    {
     "data": {
      "text/plain": [
       "CompletedProcess(args='java -jar ../checkstyle/checkstyle-10.13.0-all.jar         -c ../checkstyle/metric-checks.xml ../temp/refactoring-test-repo-main         > ../temp/code-smells.txt', returncode=43, stdout='', stderr='Checkstyle ends with 43 errors.\\n')"
      ]
     },
     "execution_count": 2,
     "metadata": {},
     "output_type": "execute_result"
    }
   ],
   "source": [
    "utilities.run_checkstyle(\"../checkstyle/\", \"../temp/refactoring-test-repo-main\", \"../temp/code-smells.txt\")"
   ]
  },
  {
   "cell_type": "code",
   "execution_count": null,
   "metadata": {},
   "outputs": [],
   "source": []
  }
 ],
 "metadata": {
  "kernelspec": {
   "display_name": "se",
   "language": "python",
   "name": "python3"
  },
  "language_info": {
   "codemirror_mode": {
    "name": "ipython",
    "version": 3
   },
   "file_extension": ".py",
   "mimetype": "text/x-python",
   "name": "python",
   "nbconvert_exporter": "python",
   "pygments_lexer": "ipython3",
   "version": "3.10.13"
  }
 },
 "nbformat": 4,
 "nbformat_minor": 2
}
