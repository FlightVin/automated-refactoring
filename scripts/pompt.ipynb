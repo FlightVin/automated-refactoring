{
 "cells": [
  {
   "cell_type": "code",
   "execution_count": 35,
   "metadata": {},
   "outputs": [
    {
     "name": "stdout",
     "output_type": "stream",
     "text": [
      "WARNING: __file__ not found, trying local\n",
      "Library path /home/vineeth/Desktop/III-II/SE/project/automated-refactoring already in PYTHONPATH\n"
     ]
    }
   ],
   "source": [
    "import os\n",
    "from pathlib import Path\n",
    "import sys\n",
    "\n",
    "# Set the \"./../\" from the script folder\n",
    "dir_name = None\n",
    "try:\n",
    "    dir_name = os.path.dirname(os.path.realpath(__file__))\n",
    "except NameError:\n",
    "    print(\"WARNING: __file__ not found, trying local\")\n",
    "    dir_name = os.path.abspath('')\n",
    "lib_path = os.path.realpath(f\"{Path(dir_name).parent}\")\n",
    "# Add to path\n",
    "if lib_path not in sys.path:\n",
    "    print(f\"Adding library path: {lib_path} to PYTHONPATH\")\n",
    "    sys.path.append(lib_path)\n",
    "else:\n",
    "    print(f\"Library path {lib_path} already in PYTHONPATH\")\n",
    "\n",
    "import utilities"
   ]
  },
  {
   "cell_type": "code",
   "execution_count": 36,
   "metadata": {},
   "outputs": [],
   "source": [
    "import json"
   ]
  },
  {
   "cell_type": "code",
   "execution_count": 66,
   "metadata": {},
   "outputs": [],
   "source": [
    "def build_prompt(prompt_file_path, checkstyle_output_path, current_code_path):\n",
    "    with open(prompt_file_path, 'r') as json_file:\n",
    "        prompt_file = json.load(json_file)\n",
    "\n",
    "    considered_code_path = current_code_path.split(\"temp\")[1][1:]\n",
    "\n",
    "    prompt = prompt_file[\"base\"] + prompt_file[\"code_desc\"].format(file_name = considered_code_path)\n",
    "\n",
    "    with open(current_code_path) as f:\n",
    "        current_code = f.read()\n",
    "\n",
    "    # adding code\n",
    "    prompt += \"```java\\n\"\n",
    "    prompt += current_code\n",
    "    prompt += \"\\n```\\n\\n\"\n",
    "\n",
    "    # add code metrics\n",
    "    prompt += prompt_file[\"checkstyle_desc\"]\n",
    "\n",
    "    with open(checkstyle_output_path) as f:\n",
    "        all_code_metrics = f.readlines()\n",
    "    # only considering metrics for current file\n",
    "    code_file_name = os.path.basename(current_code_path)\n",
    "    current_code_metrics = \"\"\n",
    "    for i in all_code_metrics:\n",
    "        if code_file_name in i:\n",
    "            current_code_metrics += \" - \"\n",
    "            current_code_metrics += i\n",
    "    current_code_metrics += \"\\n\"\n",
    "\n",
    "    if current_code_metrics == \"\\n\":\n",
    "        current_code_metrics = \"No smells were found\\n\"\n",
    "\n",
    "    prompt += current_code_metrics\n",
    "\n",
    "    # adding description of smells\n",
    "    prompt += prompt_file[\"checkstyle_metrics\"]\n",
    "\n",
    "    # adding ending\n",
    "    prompt += prompt_file[\"prompt_ending\"]\n",
    "\n",
    "    return prompt"
   ]
  },
  {
   "cell_type": "code",
   "execution_count": 68,
   "metadata": {},
   "outputs": [],
   "source": [
    "prompt = build_prompt(\"../base_prompt.json\", \"../temp/code-smells.txt\", \"../temp/refactoring-test-repo-main/books-web/src/main/java/com/sismics/books/rest/resource/UserResource.java\")\n",
    "\n",
    "with open(\"example_prompt.txt\", \"w\") as f:\n",
    "    f.write(prompt)"
   ]
  },
  {
   "cell_type": "code",
   "execution_count": null,
   "metadata": {},
   "outputs": [],
   "source": []
  }
 ],
 "metadata": {
  "kernelspec": {
   "display_name": "se",
   "language": "python",
   "name": "python3"
  },
  "language_info": {
   "codemirror_mode": {
    "name": "ipython",
    "version": 3
   },
   "file_extension": ".py",
   "mimetype": "text/x-python",
   "name": "python",
   "nbconvert_exporter": "python",
   "pygments_lexer": "ipython3",
   "version": "3.10.13"
  }
 },
 "nbformat": 4,
 "nbformat_minor": 2
}
