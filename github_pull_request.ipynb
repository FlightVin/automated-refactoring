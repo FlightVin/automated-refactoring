{
 "cells": [
  {
   "cell_type": "code",
   "execution_count": 2,
   "metadata": {},
   "outputs": [],
   "source": [
    "import requests\n",
    "import json"
   ]
  },
  {
   "cell_type": "code",
   "execution_count": 3,
   "metadata": {},
   "outputs": [],
   "source": [
    "with open(\"./private/tokens.json\", 'r') as json_file:\n",
    "    github_token = json.load(json_file)[\"github_token\"]"
   ]
  },
  {
   "cell_type": "code",
   "execution_count": 5,
   "metadata": {},
   "outputs": [],
   "source": [
    "def create_pull_request(repo_owner, repo_name, base_branch, head_branch, title, body, token):\n",
    "    url = f'https://api.github.com/repos/{repo_owner}/{repo_name}/pulls'\n",
    "    headers = {\n",
    "        'Authorization': f'Bearer {token}',\n",
    "        'Accept': 'application/vnd.github.v3+json'\n",
    "    }\n",
    "    payload = {\n",
    "        'title': title,\n",
    "        'body': body,\n",
    "        'head': head_branch,\n",
    "        'base': base_branch\n",
    "    }\n",
    "\n",
    "    response = requests.post(url, json=payload, headers=headers)\n",
    "\n",
    "    if response.status_code == 201:\n",
    "        print(\"Pull request created successfully!\")\n",
    "        return response.json()\n",
    "    else:\n",
    "        print(f\"Failed to create pull request. Status code: {response.status_code}\")\n",
    "        print(response.text)\n",
    "        return None"
   ]
  },
  {
   "cell_type": "code",
   "execution_count": 6,
   "metadata": {},
   "outputs": [
    {
     "name": "stdout",
     "output_type": "stream",
     "text": [
      "Pull request created successfully!\n"
     ]
    }
   ],
   "source": [
    "repo_owner = 'FlightVin'\n",
    "repo_name = 'refactoring-test-repo'\n",
    "base_branch = 'main'\n",
    "head_branch = 'new'\n",
    "title = 'test from local'\n",
    "body = 'pls work'\n",
    "\n",
    "pull_request_info = create_pull_request(repo_owner, repo_name, base_branch, head_branch, title, body, github_token)"
   ]
  }
 ],
 "metadata": {
  "kernelspec": {
   "display_name": "se",
   "language": "python",
   "name": "python3"
  },
  "language_info": {
   "codemirror_mode": {
    "name": "ipython",
    "version": 3
   },
   "file_extension": ".py",
   "mimetype": "text/x-python",
   "name": "python",
   "nbconvert_exporter": "python",
   "pygments_lexer": "ipython3",
   "version": "3.10.13"
  }
 },
 "nbformat": 4,
 "nbformat_minor": 2
}
